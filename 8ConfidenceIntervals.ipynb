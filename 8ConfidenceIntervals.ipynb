{
 "cells": [
  {
   "cell_type": "code",
   "execution_count": 1,
   "metadata": {},
   "outputs": [],
   "source": [
    "import pandas as pd\n",
    "stuPer = pd.read_csv(\"StudentsPerformance.csv\")"
   ]
  },
  {
   "cell_type": "code",
   "execution_count": 2,
   "metadata": {
    "scrolled": true
   },
   "outputs": [
    {
     "data": {
      "text/html": [
       "<div>\n",
       "<style scoped>\n",
       "    .dataframe tbody tr th:only-of-type {\n",
       "        vertical-align: middle;\n",
       "    }\n",
       "\n",
       "    .dataframe tbody tr th {\n",
       "        vertical-align: top;\n",
       "    }\n",
       "\n",
       "    .dataframe thead th {\n",
       "        text-align: right;\n",
       "    }\n",
       "</style>\n",
       "<table border=\"1\" class=\"dataframe\">\n",
       "  <thead>\n",
       "    <tr style=\"text-align: right;\">\n",
       "      <th></th>\n",
       "      <th>gender</th>\n",
       "      <th>race/ethnicity</th>\n",
       "      <th>parental level of education</th>\n",
       "      <th>lunch</th>\n",
       "      <th>test preparation course</th>\n",
       "      <th>math score</th>\n",
       "      <th>reading score</th>\n",
       "      <th>writing score</th>\n",
       "    </tr>\n",
       "  </thead>\n",
       "  <tbody>\n",
       "    <tr>\n",
       "      <th>0</th>\n",
       "      <td>female</td>\n",
       "      <td>group B</td>\n",
       "      <td>bachelor's degree</td>\n",
       "      <td>standard</td>\n",
       "      <td>none</td>\n",
       "      <td>72</td>\n",
       "      <td>72</td>\n",
       "      <td>74</td>\n",
       "    </tr>\n",
       "    <tr>\n",
       "      <th>1</th>\n",
       "      <td>female</td>\n",
       "      <td>group C</td>\n",
       "      <td>some college</td>\n",
       "      <td>standard</td>\n",
       "      <td>completed</td>\n",
       "      <td>69</td>\n",
       "      <td>90</td>\n",
       "      <td>88</td>\n",
       "    </tr>\n",
       "    <tr>\n",
       "      <th>2</th>\n",
       "      <td>female</td>\n",
       "      <td>group B</td>\n",
       "      <td>master's degree</td>\n",
       "      <td>standard</td>\n",
       "      <td>none</td>\n",
       "      <td>90</td>\n",
       "      <td>95</td>\n",
       "      <td>93</td>\n",
       "    </tr>\n",
       "    <tr>\n",
       "      <th>3</th>\n",
       "      <td>male</td>\n",
       "      <td>group A</td>\n",
       "      <td>associate's degree</td>\n",
       "      <td>free/reduced</td>\n",
       "      <td>none</td>\n",
       "      <td>47</td>\n",
       "      <td>57</td>\n",
       "      <td>44</td>\n",
       "    </tr>\n",
       "    <tr>\n",
       "      <th>4</th>\n",
       "      <td>male</td>\n",
       "      <td>group C</td>\n",
       "      <td>some college</td>\n",
       "      <td>standard</td>\n",
       "      <td>none</td>\n",
       "      <td>76</td>\n",
       "      <td>78</td>\n",
       "      <td>75</td>\n",
       "    </tr>\n",
       "  </tbody>\n",
       "</table>\n",
       "</div>"
      ],
      "text/plain": [
       "   gender race/ethnicity parental level of education         lunch  \\\n",
       "0  female        group B           bachelor's degree      standard   \n",
       "1  female        group C                some college      standard   \n",
       "2  female        group B             master's degree      standard   \n",
       "3    male        group A          associate's degree  free/reduced   \n",
       "4    male        group C                some college      standard   \n",
       "\n",
       "  test preparation course  math score  reading score  writing score  \n",
       "0                    none          72             72             74  \n",
       "1               completed          69             90             88  \n",
       "2                    none          90             95             93  \n",
       "3                    none          47             57             44  \n",
       "4                    none          76             78             75  "
      ]
     },
     "execution_count": 2,
     "metadata": {},
     "output_type": "execute_result"
    }
   ],
   "source": [
    "stuPer.head()"
   ]
  },
  {
   "cell_type": "code",
   "execution_count": 3,
   "metadata": {},
   "outputs": [
    {
     "name": "stdout",
     "output_type": "stream",
     "text": [
      "66.0\n",
      "66.089\n"
     ]
    },
    {
     "data": {
      "image/png": "[encoded data removed]",
      "text/plain": [
       "<Figure size 432x288 with 1 Axes>"
      ]
     },
     "metadata": {
      "needs_background": "light"
     },
     "output_type": "display_data"
    }
   ],
   "source": [
    "stuPer['math score'].plot(kind='hist', bins = 200)\n",
    "print(stuPer['math score'].median())\n",
    "print(stuPer['math score'].mean())"
   ]
  },
  {
   "cell_type": "code",
   "execution_count": 17,
   "metadata": {},
   "outputs": [
    {
     "name": "stdout",
     "output_type": "stream",
     "text": [
      "Math score Confidence Intervals:\n",
      "Confidence 90%: (65.29956277376718, 66.87843722623282)\n",
      "Confidence 95%: (65.14805983128305, 67.02994016871695)\n",
      "Confidence 99%: (64.85152912319047, 67.32647087680952)\n",
      "Confidence 99.99%: (64.21590569032307, 67.96209430967693)\n"
     ]
    }
   ],
   "source": [
    "import scipy.stats as st\n",
    "print(\"Math score Confidence Intervals:\")\n",
    "print(\"Confidence 90%: \" + str(st.t.interval(0.90, len(stuPer)-1, loc=stuPer['math score'].mean(), scale=st.sem(stuPer['math score']))))\n",
    "print(\"Confidence 95%: \" + str(st.t.interval(0.95, len(stuPer)-1, loc=stuPer['math score'].mean(), scale=st.sem(stuPer['math score']))))\n",
    "print(\"Confidence 99%: \" + str(st.t.interval(0.99, len(stuPer)-1, loc=stuPer['math score'].mean(), scale=st.sem(stuPer['math score']))))\n",
    "print(\"Confidence 99.99%: \" + str(st.t.interval(0.9999, len(stuPer)-1, loc=stuPer['math score'].mean(), scale=st.sem(stuPer['math score']))))\n"
   ]
  },
  {
   "cell_type": "markdown",
   "metadata": {},
   "source": [
    "We can see that when the confidence becomes larger, the range or interval gets larger, because the values are spread further apart."
   ]
  },
  {
   "cell_type": "code",
   "execution_count": 31,
   "metadata": {},
   "outputs": [
    {
     "name": "stdout",
     "output_type": "stream",
     "text": [
      "Math score Confidence Intervals 95%:\n",
      "Confidence with all data: (65.14805983128305, 67.02994016871695)\n",
      "Confidence with all data: (57.45717567002958, 63.80282432997043)\n"
     ]
    }
   ],
   "source": [
    "stuPerHead = stuPer.head(int(len(stuPer)/10))\n",
    "print(\"Math score Confidence Intervals 95%:\")\n",
    "print(\"Confidence with all data: \" + str(st.t.interval(0.95, len(stuPer)-1, loc=stuPer['math score'].mean(), scale=st.sem(stuPer['math score']))))\n",
    "print(\"Confidence with all data: \" + str(st.t.interval(0.95, len(stuPerHead)-1, loc=stuPerHead['math score'].mean(), scale=st.sem(stuPerHead['math score']))))"
   ]
  },
  {
   "cell_type": "markdown",
   "metadata": {},
   "source": [
    "The confidence interval shifts towards the lower part of the data, this could be because the first 10% of the students have a lot of bad scores and the data is sorted, or we could just have bad luck with the distribution of the datapoints."
   ]
  },
  {
   "cell_type": "code",
   "execution_count": 20,
   "metadata": {},
   "outputs": [
    {
     "name": "stdout",
     "output_type": "stream",
     "text": [
      "70.0\n",
      "69.169\n"
     ]
    },
    {
     "data": {
      "image/png": "[encoded data removed]",
      "text/plain": [
       "<Figure size 432x288 with 1 Axes>"
      ]
     },
     "metadata": {
      "needs_background": "light"
     },
     "output_type": "display_data"
    }
   ],
   "source": [
    "stuPer['reading score'].plot(kind='hist', bins = 200)\n",
    "print(stuPer['reading score'].median())\n",
    "print(stuPer['reading score'].mean())"
   ]
  },
  {
   "cell_type": "code",
   "execution_count": 23,
   "metadata": {
    "scrolled": true
   },
   "outputs": [
    {
     "name": "stdout",
     "output_type": "stream",
     "text": [
      "Reading score Confidence Intervals:\n",
      "Confidence 90%: (68.40886848632128, 69.92913151367871)\n",
      "Confidence 95%: (68.26298967902613, 70.07501032097386)\n",
      "Confidence 99%: (67.97746686795952, 70.36053313204047)\n",
      "Confidence 99.99%: (67.36543922839559, 70.9725607716044)\n"
     ]
    }
   ],
   "source": [
    "import scipy.stats as st\n",
    "print(\"Reading score Confidence Intervals:\")\n",
    "print(\"Confidence 90%: \" + str(st.t.interval(0.90, len(stuPer)-1, loc=stuPer['reading score'].mean(), scale=st.sem(stuPer['reading score']))))\n",
    "print(\"Confidence 95%: \" + str(st.t.interval(0.95, len(stuPer)-1, loc=stuPer['reading score'].mean(), scale=st.sem(stuPer['reading score']))))\n",
    "print(\"Confidence 99%: \" + str(st.t.interval(0.99, len(stuPer)-1, loc=stuPer['reading score'].mean(), scale=st.sem(stuPer['reading score']))))\n",
    "print(\"Confidence 99.99%: \" + str(st.t.interval(0.9999, len(stuPer)-1, loc=stuPer['reading score'].mean(), scale=st.sem(stuPer['reading score']))))\n"
   ]
  },
  {
   "cell_type": "code",
   "execution_count": 32,
   "metadata": {
    "scrolled": true
   },
   "outputs": [
    {
     "name": "stdout",
     "output_type": "stream",
     "text": [
      "Reading score Confidence Intervals 95%:\n",
      "Confidence with all data: (68.26298967902613, 70.07501032097386)\n",
      "Confidence with all data: (61.41579943966304, 67.70420056033696)\n"
     ]
    }
   ],
   "source": [
    "stuPerHead = stuPer.head(int(len(stuPer)/10))\n",
    "print(\"Reading score Confidence Intervals 95%:\")\n",
    "print(\"Confidence with all data: \" + str(st.t.interval(0.95, len(stuPer)-1, loc=stuPer['reading score'].mean(), scale=st.sem(stuPer['reading score']))))\n",
    "print(\"Confidence with all data: \" + str(st.t.interval(0.95, len(stuPerHead)-1, loc=stuPerHead['reading score'].mean(), scale=st.sem(stuPerHead['reading score']))))"
   ]
  },
  {
   "cell_type": "markdown",
   "metadata": {},
   "source": [
    "And again the interval has shifted towards the lower part of the distribution, but we also see very clearly that the interval has become much larger. "
   ]
  },
  {
   "cell_type": "code",
   "execution_count": 39,
   "metadata": {},
   "outputs": [
    {
     "data": {
      "text/plain": [
       "<AxesSubplot:ylabel='Frequency'>"
      ]
     },
     "execution_count": 39,
     "metadata": {},
     "output_type": "execute_result"
    },
    {
     "data": {
      "image/png": "[encoded data removed]",
      "text/plain": [
       "<Figure size 432x288 with 1 Axes>"
      ]
     },
     "metadata": {
      "needs_background": "light"
     },
     "output_type": "display_data"
    }
   ],
   "source": [
    "stuPer['reading score'].plot(kind='hist', bins = 200)\n",
    "stuPerHead['reading score'].plot(kind='hist', bins = 200)"
   ]
  },
  {
   "cell_type": "markdown",
   "metadata": {},
   "source": [
    "This new histogram shows the complete dataset and only the first 10% of all data. We can clearly see differences, e.g. there are no datapoints above a score of 90, this affects the mean and thus the confidence intervals. The overall shape or distribution from the data becomes also less evident. "
   ]
  }
 ],
 "metadata": {
  "kernelspec": {
   "display_name": "Python 3",
   "language": "python",
   "name": "python3"
  },
  "language_info": {
   "codemirror_mode": {
    "name": "ipython",
    "version": 3
   },
   "file_extension": ".py",
   "mimetype": "text/x-python",
   "name": "python",
   "nbconvert_exporter": "python",
   "pygments_lexer": "ipython3",
   "version": "3.8.5"
  }
 },
 "nbformat": 4,
 "nbformat_minor": 4
}
